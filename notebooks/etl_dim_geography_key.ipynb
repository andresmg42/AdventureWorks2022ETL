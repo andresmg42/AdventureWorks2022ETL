{
 "cells": [
  {
   "cell_type": "code",
   "id": "initial_id",
   "metadata": {
    "collapsed": true,
    "ExecuteTime": {
     "end_time": "2025-10-27T21:18:14.617512Z",
     "start_time": "2025-10-27T21:18:14.615140Z"
    }
   },
   "source": [
    "import numpy as np\n",
    "import pandas as pd\n",
    "from sqlalchemy import text\n",
    "from connection import connect\n",
    "from deep_translator import GoogleTranslator"
   ],
   "outputs": [],
   "execution_count": 10
  },
  {
   "metadata": {
    "ExecuteTime": {
     "end_time": "2025-10-27T21:18:17.663390Z",
     "start_time": "2025-10-27T21:18:17.637819Z"
    }
   },
   "cell_type": "code",
   "source": "_, etl_conn, co_sa = connect()\n",
   "id": "87ee4bea18402112",
   "outputs": [
    {
     "name": "stdout",
     "output_type": "stream",
     "text": [
      "Esquemas encontrados: ['hr', 'person', 'production', 'public', 'purchasing', 'sales']\n",
      "\n",
      "--- Tablas de Negocio Encontradas ---\n",
      "Esquema 'hr' (6 tablas):\n",
      "  > ['department', 'employee', 'employee_department_history', 'employee_pay_history', 'job_candidate']...\n",
      "Esquema 'person' (13 tablas):\n",
      "  > ['business_entity', 'address', 'address_type', 'business_entity_address', 'business_entity_contact']...\n",
      "Esquema 'production' (25 tablas):\n",
      "  > ['illustration', 'bill_of_materials', 'culture', 'document', 'location']...\n",
      "Esquema 'public' (4 tablas):\n",
      "  > ['awbuild_version', 'database_log', 'error_log', 'sysdiagrams']...\n",
      "Esquema 'purchasing' (5 tablas):\n",
      "  > ['product_vendor', 'purchase_order_detail', 'purchase_order_header', 'ship_method', 'vendor']...\n",
      "Esquema 'sales' (19 tablas):\n",
      "  > ['country_region_currency', 'credit_card', 'customer', 'currency', 'currency_rate']...\n"
     ]
    }
   ],
   "execution_count": 11
  },
  {
   "metadata": {},
   "cell_type": "markdown",
   "source": [
    "Crear un countryName en español, SpanishCountryName\n",
    "\n",
    "codigo sql\n",
    "\n",
    "    SELECT\n",
    "        a.address_id AS address_alternate_key,\n",
    "        a.city,\n",
    "        a.postal_code,\n",
    "        sp.state_province_code,\n",
    "        sp.name AS state_province_name,\n",
    "        sp.country_region_code,\n",
    "\t\tcr.name,\n",
    "        NULL AS sales_territory_key,\n",
    "        a.modified_date\n",
    "    FROM person.address a\n",
    "    INNER JOIN person.state_province sp\n",
    "        ON a.state_province_id = sp.state_province_id\n",
    "\tINNER JOIN person.country_region cr\n",
    "\t\tON sp.country_region_code = cr.country_region_code;\n",
    "\n",
    "Tabla, crear fuera de un schema publico\n",
    "\n",
    "    CREATE TABLE IF NOT EXISTS dw.dim_geography (\n",
    "        geography_key SERIAL PRIMARY KEY,\n",
    "        address_alternate_key INT,\n",
    "        city TEXT,\n",
    "        postal_code TEXT,\n",
    "        state_province_code TEXT,\n",
    "        state_province_name TEXT,\n",
    "        country_region_code TEXT,\n",
    "        spanish_country_region_name TEXT,\n",
    "        sales_territory_key INT,\n",
    "        modified_date TIMESTAMP\n",
    "    );\n"
   ],
   "id": "d6058f00bddb2d26"
  },
  {
   "metadata": {},
   "cell_type": "markdown",
   "source": "# Extract",
   "id": "e9459423e824fb4"
  },
  {
   "metadata": {
    "ExecuteTime": {
     "end_time": "2025-10-27T21:18:25.433998Z",
     "start_time": "2025-10-27T21:18:25.368081Z"
    }
   },
   "cell_type": "code",
   "source": [
    "query_geography = text(\"\"\"\n",
    "    SELECT\n",
    "        a.address_id AS address_alternate_key,\n",
    "        a.city,\n",
    "        a.postal_code,\n",
    "        sp.state_province_code,\n",
    "        sp.name AS state_province_name,\n",
    "        sp.country_region_code,\n",
    "\t\tcr.name AS country_name,\n",
    "        NULL AS sales_territory_key,\n",
    "        a.modified_date\n",
    "    FROM person.address a\n",
    "    INNER JOIN person.state_province sp\n",
    "        ON a.state_province_id = sp.state_province_id\n",
    "\tINNER JOIN person.country_region cr\n",
    "\t\tON sp.country_region_code = cr.country_region_code;\n",
    "\"\"\")\n",
    "\n",
    "df_geo = pd.read_sql(query_geography, co_sa)"
   ],
   "id": "2bd6bec76fd635b0",
   "outputs": [],
   "execution_count": 12
  },
  {
   "metadata": {},
   "cell_type": "markdown",
   "source": "# Transform",
   "id": "5245738f77f317c1"
  },
  {
   "metadata": {
    "ExecuteTime": {
     "end_time": "2025-10-27T21:18:38.339518Z",
     "start_time": "2025-10-27T21:18:31.433451Z"
    }
   },
   "cell_type": "code",
   "source": [
    "translator = GoogleTranslator(source='auto', target='es')\n",
    "\n",
    "country_map = {}\n",
    "for country in df_geo['country_name'].unique():\n",
    "    try:\n",
    "        translated = translator.translate(country)\n",
    "    except Exception:\n",
    "        translated = country\n",
    "    country_map[country] = translated\n",
    "\n",
    "df_geo['spanish_country_region_name'] = df_geo['country_name'].map(country_map)\n",
    "\n",
    "print(country_map)"
   ],
   "id": "d95a97d2acbcbf59",
   "outputs": [
    {
     "name": "stdout",
     "output_type": "stream",
     "text": [
      "{'United States': 'Estados Unidos', 'Canada': 'Canadá', 'France': 'Francia', 'Germany': 'Alemania', 'Australia': 'Australia', 'United Kingdom': 'Reino Unido'}\n"
     ]
    }
   ],
   "execution_count": 13
  },
  {
   "metadata": {},
   "cell_type": "markdown",
   "source": "# Load",
   "id": "ae0f488aeda0a827"
  },
  {
   "metadata": {
    "ExecuteTime": {
     "end_time": "2025-10-27T21:23:52.122001Z",
     "start_time": "2025-10-27T21:23:51.529439Z"
    }
   },
   "cell_type": "code",
   "source": [
    "df_geo.to_sql(\n",
    "    'dim_geography',\n",
    "    etl_conn,\n",
    "    schema='dw',\n",
    "    if_exists='replace',  # usa 'append' en producción\n",
    "    index=False\n",
    ")"
   ],
   "id": "5abb638613737086",
   "outputs": [
    {
     "data": {
      "text/plain": [
       "614"
      ]
     },
     "execution_count": 16,
     "metadata": {},
     "output_type": "execute_result"
    }
   ],
   "execution_count": 16
  },
  {
   "metadata": {},
   "cell_type": "code",
   "outputs": [],
   "execution_count": null,
   "source": "",
   "id": "802bcbb2d1ee085b"
  }
 ],
 "metadata": {
  "kernelspec": {
   "display_name": "Python 3",
   "language": "python",
   "name": "python3"
  },
  "language_info": {
   "codemirror_mode": {
    "name": "ipython",
    "version": 2
   },
   "file_extension": ".py",
   "mimetype": "text/x-python",
   "name": "python",
   "nbconvert_exporter": "python",
   "pygments_lexer": "ipython2",
   "version": "2.7.6"
  }
 },
 "nbformat": 4,
 "nbformat_minor": 5
}
