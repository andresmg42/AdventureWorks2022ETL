{
 "cells": [
  {
   "cell_type": "code",
   "id": "initial_id",
   "metadata": {
    "collapsed": true,
    "ExecuteTime": {
     "end_time": "2025-10-28T07:28:42.019754Z",
     "start_time": "2025-10-28T07:28:41.699362Z"
    }
   },
   "source": [
    "import pandas as pd\n",
    "from sqlalchemy import text\n",
    "from connection import connect\n",
    "from utils.to_spanish import to_spanish"
   ],
   "outputs": [],
   "execution_count": 1
  },
  {
   "metadata": {
    "ExecuteTime": {
     "end_time": "2025-10-28T07:28:44.508848Z",
     "start_time": "2025-10-28T07:28:44.402049Z"
    }
   },
   "cell_type": "code",
   "source": "_, etl_conn, co_sa = connect()\n",
   "id": "87ee4bea18402112",
   "outputs": [
    {
     "name": "stdout",
     "output_type": "stream",
     "text": [
      "Esquemas encontrados: ['hr', 'person', 'production', 'public', 'purchasing', 'sales']\n",
      "\n",
      "--- Tablas de Negocio Encontradas ---\n",
      "Esquema 'hr' (6 tablas):\n",
      "  > ['department', 'employee', 'employee_department_history', 'employee_pay_history', 'job_candidate']...\n",
      "Esquema 'person' (13 tablas):\n",
      "  > ['business_entity', 'address', 'address_type', 'business_entity_address', 'business_entity_contact']...\n",
      "Esquema 'production' (25 tablas):\n",
      "  > ['illustration', 'bill_of_materials', 'culture', 'document', 'location']...\n",
      "Esquema 'public' (4 tablas):\n",
      "  > ['awbuild_version', 'database_log', 'error_log', 'sysdiagrams']...\n",
      "Esquema 'purchasing' (5 tablas):\n",
      "  > ['product_vendor', 'purchase_order_detail', 'purchase_order_header', 'ship_method', 'vendor']...\n",
      "Esquema 'sales' (19 tablas):\n",
      "  > ['country_region_currency', 'credit_card', 'customer', 'currency', 'currency_rate']...\n",
      "Tables de datos en la dw (debe estar vacia al iniciar la conexión\n",
      "[]\n"
     ]
    }
   ],
   "execution_count": 2
  },
  {
   "metadata": {},
   "cell_type": "markdown",
   "source": "# Extract",
   "id": "42499476f96bc40e"
  },
  {
   "metadata": {
    "ExecuteTime": {
     "end_time": "2025-10-28T07:28:47.643694Z",
     "start_time": "2025-10-28T07:28:47.610505Z"
    }
   },
   "cell_type": "code",
   "source": [
    "query_geography = text(\"\"\"\n",
    "    SELECT DISTINCT\n",
    "        a.city,\n",
    "        a.postal_code,\n",
    "        sp.state_province_code,\n",
    "        sp.name AS state_province_name,\n",
    "        sp.country_region_code,\n",
    "        cr.name AS country_region_name,\n",
    "        st.territory_id AS sales_territory_key\n",
    "    FROM\n",
    "        person.address AS a\n",
    "        INNER JOIN person.state_province AS sp\n",
    "            ON a.state_province_id = sp.state_province_id\n",
    "        INNER JOIN person.country_region AS cr\n",
    "            ON sp.country_region_code = cr.country_region_code\n",
    "        INNER JOIN sales.sales_territory AS st\n",
    "            ON sp.territory_id = st.territory_id\n",
    "        INNER JOIN person.business_entity_address AS bea\n",
    "            ON a.address_id = bea.address_id\n",
    "        LEFT JOIN sales.customer AS c\n",
    "            ON bea.business_entity_id = c.person_id -- Unir si la entidad es un cliente individual\n",
    "        LEFT JOIN sales.store AS s\n",
    "            ON bea.business_entity_id = s.business_entity_id -- Unir si la entidad es un revendedor (tienda)\n",
    "    WHERE\n",
    "        c.customer_id IS NOT NULL OR s.business_entity_id IS NOT NULL;\n",
    "\"\"\")\n",
    "\n",
    "df_geo = pd.read_sql(query_geography, co_sa)"
   ],
   "id": "2bd6bec76fd635b0",
   "outputs": [],
   "execution_count": 3
  },
  {
   "metadata": {
    "ExecuteTime": {
     "end_time": "2025-10-28T07:28:50.941049Z",
     "start_time": "2025-10-28T07:28:50.932478Z"
    }
   },
   "cell_type": "code",
   "source": "df_geo.head()",
   "id": "1ad58452477e9cae",
   "outputs": [
    {
     "data": {
      "text/plain": [
       "           city postal_code state_province_code state_province_name  \\\n",
       "0   Lake George       12845                 NY             New York   \n",
       "1    North Ryde        2113                 NSW     New South Wales   \n",
       "2          Clay       13041                 NY             New York   \n",
       "3  Bell Gardens       90201                 CA           California   \n",
       "4       Burbank       91502                 CA           California   \n",
       "\n",
       "  country_region_code country_region_name  sales_territory_key  \n",
       "0                  US       United States                    2  \n",
       "1                  AU           Australia                    9  \n",
       "2                  US       United States                    2  \n",
       "3                  US       United States                    4  \n",
       "4                  US       United States                    4  "
      ],
      "text/html": [
       "<div>\n",
       "<style scoped>\n",
       "    .dataframe tbody tr th:only-of-type {\n",
       "        vertical-align: middle;\n",
       "    }\n",
       "\n",
       "    .dataframe tbody tr th {\n",
       "        vertical-align: top;\n",
       "    }\n",
       "\n",
       "    .dataframe thead th {\n",
       "        text-align: right;\n",
       "    }\n",
       "</style>\n",
       "<table border=\"1\" class=\"dataframe\">\n",
       "  <thead>\n",
       "    <tr style=\"text-align: right;\">\n",
       "      <th></th>\n",
       "      <th>city</th>\n",
       "      <th>postal_code</th>\n",
       "      <th>state_province_code</th>\n",
       "      <th>state_province_name</th>\n",
       "      <th>country_region_code</th>\n",
       "      <th>country_region_name</th>\n",
       "      <th>sales_territory_key</th>\n",
       "    </tr>\n",
       "  </thead>\n",
       "  <tbody>\n",
       "    <tr>\n",
       "      <th>0</th>\n",
       "      <td>Lake George</td>\n",
       "      <td>12845</td>\n",
       "      <td>NY</td>\n",
       "      <td>New York</td>\n",
       "      <td>US</td>\n",
       "      <td>United States</td>\n",
       "      <td>2</td>\n",
       "    </tr>\n",
       "    <tr>\n",
       "      <th>1</th>\n",
       "      <td>North Ryde</td>\n",
       "      <td>2113</td>\n",
       "      <td>NSW</td>\n",
       "      <td>New South Wales</td>\n",
       "      <td>AU</td>\n",
       "      <td>Australia</td>\n",
       "      <td>9</td>\n",
       "    </tr>\n",
       "    <tr>\n",
       "      <th>2</th>\n",
       "      <td>Clay</td>\n",
       "      <td>13041</td>\n",
       "      <td>NY</td>\n",
       "      <td>New York</td>\n",
       "      <td>US</td>\n",
       "      <td>United States</td>\n",
       "      <td>2</td>\n",
       "    </tr>\n",
       "    <tr>\n",
       "      <th>3</th>\n",
       "      <td>Bell Gardens</td>\n",
       "      <td>90201</td>\n",
       "      <td>CA</td>\n",
       "      <td>California</td>\n",
       "      <td>US</td>\n",
       "      <td>United States</td>\n",
       "      <td>4</td>\n",
       "    </tr>\n",
       "    <tr>\n",
       "      <th>4</th>\n",
       "      <td>Burbank</td>\n",
       "      <td>91502</td>\n",
       "      <td>CA</td>\n",
       "      <td>California</td>\n",
       "      <td>US</td>\n",
       "      <td>United States</td>\n",
       "      <td>4</td>\n",
       "    </tr>\n",
       "  </tbody>\n",
       "</table>\n",
       "</div>"
      ]
     },
     "execution_count": 4,
     "metadata": {},
     "output_type": "execute_result"
    }
   ],
   "execution_count": 4
  },
  {
   "metadata": {
    "ExecuteTime": {
     "end_time": "2025-10-28T06:41:21.544629Z",
     "start_time": "2025-10-28T06:41:21.541033Z"
    }
   },
   "cell_type": "code",
   "source": "df_geo.shape",
   "id": "5c0f086d0fcc652b",
   "outputs": [
    {
     "data": {
      "text/plain": [
       "(655, 7)"
      ]
     },
     "execution_count": 23,
     "metadata": {},
     "output_type": "execute_result"
    }
   ],
   "execution_count": 23
  },
  {
   "metadata": {},
   "cell_type": "markdown",
   "source": "# Transform",
   "id": "5245738f77f317c1"
  },
  {
   "metadata": {
    "ExecuteTime": {
     "end_time": "2025-10-28T07:28:55.319410Z",
     "start_time": "2025-10-28T07:28:53.295908Z"
    }
   },
   "cell_type": "code",
   "source": [
    "country_map = to_spanish(df_geo, 'country_region_name')\n",
    "\n",
    "df_geo['spanish_country_region_name'] = df_geo['country_region_name'].map(country_map)\n",
    "\n",
    "print(country_map)\n",
    "\n",
    "# TODO: VINCULAR LLAVE sales_territory_key CON LA DIMENSION SALES_TERRITORY"
   ],
   "id": "d95a97d2acbcbf59",
   "outputs": [
    {
     "name": "stdout",
     "output_type": "stream",
     "text": [
      "{'United States': 'Estados Unidos', 'Australia': 'Australia', 'Canada': 'Canadá', 'Germany': 'Alemania', 'United Kingdom': 'Reino Unido', 'France': 'Francia'}\n"
     ]
    }
   ],
   "execution_count": 5
  },
  {
   "metadata": {
    "ExecuteTime": {
     "end_time": "2025-10-28T07:28:56.581074Z",
     "start_time": "2025-10-28T07:28:56.574932Z"
    }
   },
   "cell_type": "code",
   "source": "df_geo.head()",
   "id": "f295a2096f50b11",
   "outputs": [
    {
     "data": {
      "text/plain": [
       "           city postal_code state_province_code state_province_name  \\\n",
       "0   Lake George       12845                 NY             New York   \n",
       "1    North Ryde        2113                 NSW     New South Wales   \n",
       "2          Clay       13041                 NY             New York   \n",
       "3  Bell Gardens       90201                 CA           California   \n",
       "4       Burbank       91502                 CA           California   \n",
       "\n",
       "  country_region_code country_region_name  sales_territory_key  \\\n",
       "0                  US       United States                    2   \n",
       "1                  AU           Australia                    9   \n",
       "2                  US       United States                    2   \n",
       "3                  US       United States                    4   \n",
       "4                  US       United States                    4   \n",
       "\n",
       "  spanish_country_region_name  \n",
       "0              Estados Unidos  \n",
       "1                   Australia  \n",
       "2              Estados Unidos  \n",
       "3              Estados Unidos  \n",
       "4              Estados Unidos  "
      ],
      "text/html": [
       "<div>\n",
       "<style scoped>\n",
       "    .dataframe tbody tr th:only-of-type {\n",
       "        vertical-align: middle;\n",
       "    }\n",
       "\n",
       "    .dataframe tbody tr th {\n",
       "        vertical-align: top;\n",
       "    }\n",
       "\n",
       "    .dataframe thead th {\n",
       "        text-align: right;\n",
       "    }\n",
       "</style>\n",
       "<table border=\"1\" class=\"dataframe\">\n",
       "  <thead>\n",
       "    <tr style=\"text-align: right;\">\n",
       "      <th></th>\n",
       "      <th>city</th>\n",
       "      <th>postal_code</th>\n",
       "      <th>state_province_code</th>\n",
       "      <th>state_province_name</th>\n",
       "      <th>country_region_code</th>\n",
       "      <th>country_region_name</th>\n",
       "      <th>sales_territory_key</th>\n",
       "      <th>spanish_country_region_name</th>\n",
       "    </tr>\n",
       "  </thead>\n",
       "  <tbody>\n",
       "    <tr>\n",
       "      <th>0</th>\n",
       "      <td>Lake George</td>\n",
       "      <td>12845</td>\n",
       "      <td>NY</td>\n",
       "      <td>New York</td>\n",
       "      <td>US</td>\n",
       "      <td>United States</td>\n",
       "      <td>2</td>\n",
       "      <td>Estados Unidos</td>\n",
       "    </tr>\n",
       "    <tr>\n",
       "      <th>1</th>\n",
       "      <td>North Ryde</td>\n",
       "      <td>2113</td>\n",
       "      <td>NSW</td>\n",
       "      <td>New South Wales</td>\n",
       "      <td>AU</td>\n",
       "      <td>Australia</td>\n",
       "      <td>9</td>\n",
       "      <td>Australia</td>\n",
       "    </tr>\n",
       "    <tr>\n",
       "      <th>2</th>\n",
       "      <td>Clay</td>\n",
       "      <td>13041</td>\n",
       "      <td>NY</td>\n",
       "      <td>New York</td>\n",
       "      <td>US</td>\n",
       "      <td>United States</td>\n",
       "      <td>2</td>\n",
       "      <td>Estados Unidos</td>\n",
       "    </tr>\n",
       "    <tr>\n",
       "      <th>3</th>\n",
       "      <td>Bell Gardens</td>\n",
       "      <td>90201</td>\n",
       "      <td>CA</td>\n",
       "      <td>California</td>\n",
       "      <td>US</td>\n",
       "      <td>United States</td>\n",
       "      <td>4</td>\n",
       "      <td>Estados Unidos</td>\n",
       "    </tr>\n",
       "    <tr>\n",
       "      <th>4</th>\n",
       "      <td>Burbank</td>\n",
       "      <td>91502</td>\n",
       "      <td>CA</td>\n",
       "      <td>California</td>\n",
       "      <td>US</td>\n",
       "      <td>United States</td>\n",
       "      <td>4</td>\n",
       "      <td>Estados Unidos</td>\n",
       "    </tr>\n",
       "  </tbody>\n",
       "</table>\n",
       "</div>"
      ]
     },
     "execution_count": 6,
     "metadata": {},
     "output_type": "execute_result"
    }
   ],
   "execution_count": 6
  },
  {
   "metadata": {
    "ExecuteTime": {
     "end_time": "2025-10-28T07:28:58.515198Z",
     "start_time": "2025-10-28T07:28:58.512491Z"
    }
   },
   "cell_type": "code",
   "source": "df_geo.shape",
   "id": "e578ea09c6e72aa6",
   "outputs": [
    {
     "data": {
      "text/plain": [
       "(655, 8)"
      ]
     },
     "execution_count": 7,
     "metadata": {},
     "output_type": "execute_result"
    }
   ],
   "execution_count": 7
  },
  {
   "metadata": {},
   "cell_type": "markdown",
   "source": "# Load",
   "id": "ae0f488aeda0a827"
  },
  {
   "metadata": {
    "ExecuteTime": {
     "end_time": "2025-10-28T07:29:00.486324Z",
     "start_time": "2025-10-28T07:29:00.463225Z"
    }
   },
   "cell_type": "code",
   "source": [
    "df_geo.to_sql(\n",
    "    'dim_geography',\n",
    "    etl_conn,\n",
    "    schema='dw',\n",
    "    if_exists='append',\n",
    "    index=False\n",
    ")"
   ],
   "id": "5abb638613737086",
   "outputs": [
    {
     "data": {
      "text/plain": [
       "655"
      ]
     },
     "execution_count": 8,
     "metadata": {},
     "output_type": "execute_result"
    }
   ],
   "execution_count": 8
  }
 ],
 "metadata": {
  "kernelspec": {
   "display_name": "Python 3",
   "language": "python",
   "name": "python3"
  },
  "language_info": {
   "codemirror_mode": {
    "name": "ipython",
    "version": 2
   },
   "file_extension": ".py",
   "mimetype": "text/x-python",
   "name": "python",
   "nbconvert_exporter": "python",
   "pygments_lexer": "ipython2",
   "version": "2.7.6"
  }
 },
 "nbformat": 4,
 "nbformat_minor": 5
}
