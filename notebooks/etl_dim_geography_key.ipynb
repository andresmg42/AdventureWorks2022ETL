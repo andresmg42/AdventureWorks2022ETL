{
 "cells": [
  {
   "cell_type": "code",
   "id": "initial_id",
   "metadata": {
    "collapsed": true,
    "ExecuteTime": {
     "end_time": "2025-10-27T21:18:14.617512Z",
     "start_time": "2025-10-27T21:18:14.615140Z"
    }
   },
   "source": [
    "import pandas as pd\n",
    "from sqlalchemy import text\n",
    "from connection import connect\n",
    "from deep_translator import GoogleTranslator"
   ],
   "outputs": [],
   "execution_count": 10
  },
  {
   "metadata": {
    "ExecuteTime": {
     "end_time": "2025-10-27T21:18:17.663390Z",
     "start_time": "2025-10-27T21:18:17.637819Z"
    }
   },
   "cell_type": "code",
   "source": "_, etl_conn, co_sa = connect()\n",
   "id": "87ee4bea18402112",
   "outputs": [
    {
     "name": "stdout",
     "output_type": "stream",
     "text": [
      "Esquemas encontrados: ['hr', 'person', 'production', 'public', 'purchasing', 'sales']\n",
      "\n",
      "--- Tablas de Negocio Encontradas ---\n",
      "Esquema 'hr' (6 tablas):\n",
      "  > ['department', 'employee', 'employee_department_history', 'employee_pay_history', 'job_candidate']...\n",
      "Esquema 'person' (13 tablas):\n",
      "  > ['business_entity', 'address', 'address_type', 'business_entity_address', 'business_entity_contact']...\n",
      "Esquema 'production' (25 tablas):\n",
      "  > ['illustration', 'bill_of_materials', 'culture', 'document', 'location']...\n",
      "Esquema 'public' (4 tablas):\n",
      "  > ['awbuild_version', 'database_log', 'error_log', 'sysdiagrams']...\n",
      "Esquema 'purchasing' (5 tablas):\n",
      "  > ['product_vendor', 'purchase_order_detail', 'purchase_order_header', 'ship_method', 'vendor']...\n",
      "Esquema 'sales' (19 tablas):\n",
      "  > ['country_region_currency', 'credit_card', 'customer', 'currency', 'currency_rate']...\n"
     ]
    }
   ],
   "execution_count": 11
  },
  {
   "metadata": {},
   "cell_type": "markdown",
   "source": [
    "Crear un countryName en español, SpanishCountryName\n",
    "\n",
    "codigo sql\n",
    "\n",
    "    SELECT\n",
    "        a.address_id AS address_alternate_key,\n",
    "        a.city,\n",
    "        a.postal_code,\n",
    "        sp.state_province_code,\n",
    "        sp.name AS state_province_name,\n",
    "        sp.country_region_code,\n",
    "\t\tcr.name,\n",
    "        NULL AS sales_territory_key,\n",
    "        a.modified_date\n",
    "    FROM person.address a\n",
    "    INNER JOIN person.state_province sp\n",
    "        ON a.state_province_id = sp.state_province_id\n",
    "\tINNER JOIN person.country_region cr\n",
    "\t\tON sp.country_region_code = cr.country_region_code;\n",
    "\n",
    "Tabla, crear fuera de un schema publico\n",
    "\n",
    "    CREATE TABLE IF NOT EXISTS dw.dim_geography (\n",
    "        geography_key SERIAL PRIMARY KEY,\n",
    "        address_alternate_key INT,\n",
    "        city TEXT,\n",
    "        postal_code TEXT,\n",
    "        state_province_code TEXT,\n",
    "        state_province_name TEXT,\n",
    "        country_region_code TEXT,\n",
    "        spanish_country_region_name TEXT,\n",
    "        sales_territory_key INT,\n",
    "        modified_date TIMESTAMP\n",
    "    );\n"
   ],
   "id": "d6058f00bddb2d26"
  },
  {
   "metadata": {},
   "cell_type": "markdown",
   "source": "# Extract",
   "id": "e9459423e824fb4"
  },
  {
   "metadata": {
    "ExecuteTime": {
     "end_time": "2025-10-27T21:18:25.433998Z",
     "start_time": "2025-10-27T21:18:25.368081Z"
    }
   },
   "cell_type": "code",
   "source": [
    "query_geography = text(\"\"\"\n",
    "    SELECT\n",
    "        a.address_id AS address_alternate_key,\n",
    "        a.city,\n",
    "        a.postal_code,\n",
    "        sp.state_province_code,\n",
    "        sp.name AS state_province_name,\n",
    "        sp.country_region_code,\n",
    "\t\tcr.name AS country_name,\n",
    "        NULL AS sales_territory_key,\n",
    "        a.modified_date\n",
    "    FROM person.address a\n",
    "    INNER JOIN person.state_province sp\n",
    "        ON a.state_province_id = sp.state_province_id\n",
    "\tINNER JOIN person.country_region cr\n",
    "\t\tON sp.country_region_code = cr.country_region_code;\n",
    "\"\"\")\n",
    "\n",
    "df_geo = pd.read_sql(query_geography, co_sa)"
   ],
   "id": "2bd6bec76fd635b0",
   "outputs": [],
   "execution_count": 12
  },
  {
   "metadata": {
    "ExecuteTime": {
     "end_time": "2025-10-27T23:35:38.408668Z",
     "start_time": "2025-10-27T23:35:38.401723Z"
    }
   },
   "cell_type": "code",
   "source": "df_geo.head()",
   "id": "1ad58452477e9cae",
   "outputs": [
    {
     "data": {
      "text/plain": [
       "   address_alternate_key     city postal_code state_province_code  \\\n",
       "0                      1  Bothell       98011                 WA    \n",
       "1                      2  Bothell       98011                 WA    \n",
       "2                      3  Bothell       98011                 WA    \n",
       "3                      4  Bothell       98011                 WA    \n",
       "4                      5  Bothell       98011                 WA    \n",
       "\n",
       "  state_province_name country_region_code   country_name sales_territory_key  \\\n",
       "0          Washington                  US  United States                None   \n",
       "1          Washington                  US  United States                None   \n",
       "2          Washington                  US  United States                None   \n",
       "3          Washington                  US  United States                None   \n",
       "4          Washington                  US  United States                None   \n",
       "\n",
       "              modified_date spanish_country_region_name  \n",
       "0 2007-12-04 00:00:00+00:00              Estados Unidos  \n",
       "1 2008-11-30 00:00:00+00:00              Estados Unidos  \n",
       "2 2013-03-07 00:00:00+00:00              Estados Unidos  \n",
       "3 2009-02-03 00:00:00+00:00              Estados Unidos  \n",
       "4 2008-12-19 00:00:00+00:00              Estados Unidos  "
      ],
      "text/html": [
       "<div>\n",
       "<style scoped>\n",
       "    .dataframe tbody tr th:only-of-type {\n",
       "        vertical-align: middle;\n",
       "    }\n",
       "\n",
       "    .dataframe tbody tr th {\n",
       "        vertical-align: top;\n",
       "    }\n",
       "\n",
       "    .dataframe thead th {\n",
       "        text-align: right;\n",
       "    }\n",
       "</style>\n",
       "<table border=\"1\" class=\"dataframe\">\n",
       "  <thead>\n",
       "    <tr style=\"text-align: right;\">\n",
       "      <th></th>\n",
       "      <th>address_alternate_key</th>\n",
       "      <th>city</th>\n",
       "      <th>postal_code</th>\n",
       "      <th>state_province_code</th>\n",
       "      <th>state_province_name</th>\n",
       "      <th>country_region_code</th>\n",
       "      <th>country_name</th>\n",
       "      <th>sales_territory_key</th>\n",
       "      <th>modified_date</th>\n",
       "      <th>spanish_country_region_name</th>\n",
       "    </tr>\n",
       "  </thead>\n",
       "  <tbody>\n",
       "    <tr>\n",
       "      <th>0</th>\n",
       "      <td>1</td>\n",
       "      <td>Bothell</td>\n",
       "      <td>98011</td>\n",
       "      <td>WA</td>\n",
       "      <td>Washington</td>\n",
       "      <td>US</td>\n",
       "      <td>United States</td>\n",
       "      <td>None</td>\n",
       "      <td>2007-12-04 00:00:00+00:00</td>\n",
       "      <td>Estados Unidos</td>\n",
       "    </tr>\n",
       "    <tr>\n",
       "      <th>1</th>\n",
       "      <td>2</td>\n",
       "      <td>Bothell</td>\n",
       "      <td>98011</td>\n",
       "      <td>WA</td>\n",
       "      <td>Washington</td>\n",
       "      <td>US</td>\n",
       "      <td>United States</td>\n",
       "      <td>None</td>\n",
       "      <td>2008-11-30 00:00:00+00:00</td>\n",
       "      <td>Estados Unidos</td>\n",
       "    </tr>\n",
       "    <tr>\n",
       "      <th>2</th>\n",
       "      <td>3</td>\n",
       "      <td>Bothell</td>\n",
       "      <td>98011</td>\n",
       "      <td>WA</td>\n",
       "      <td>Washington</td>\n",
       "      <td>US</td>\n",
       "      <td>United States</td>\n",
       "      <td>None</td>\n",
       "      <td>2013-03-07 00:00:00+00:00</td>\n",
       "      <td>Estados Unidos</td>\n",
       "    </tr>\n",
       "    <tr>\n",
       "      <th>3</th>\n",
       "      <td>4</td>\n",
       "      <td>Bothell</td>\n",
       "      <td>98011</td>\n",
       "      <td>WA</td>\n",
       "      <td>Washington</td>\n",
       "      <td>US</td>\n",
       "      <td>United States</td>\n",
       "      <td>None</td>\n",
       "      <td>2009-02-03 00:00:00+00:00</td>\n",
       "      <td>Estados Unidos</td>\n",
       "    </tr>\n",
       "    <tr>\n",
       "      <th>4</th>\n",
       "      <td>5</td>\n",
       "      <td>Bothell</td>\n",
       "      <td>98011</td>\n",
       "      <td>WA</td>\n",
       "      <td>Washington</td>\n",
       "      <td>US</td>\n",
       "      <td>United States</td>\n",
       "      <td>None</td>\n",
       "      <td>2008-12-19 00:00:00+00:00</td>\n",
       "      <td>Estados Unidos</td>\n",
       "    </tr>\n",
       "  </tbody>\n",
       "</table>\n",
       "</div>"
      ]
     },
     "execution_count": 18,
     "metadata": {},
     "output_type": "execute_result"
    }
   ],
   "execution_count": 18
  },
  {
   "metadata": {},
   "cell_type": "markdown",
   "source": "# Transform",
   "id": "5245738f77f317c1"
  },
  {
   "metadata": {
    "ExecuteTime": {
     "end_time": "2025-10-27T21:18:38.339518Z",
     "start_time": "2025-10-27T21:18:31.433451Z"
    }
   },
   "cell_type": "code",
   "source": [
    "translator = GoogleTranslator(source='auto', target='es')\n",
    "\n",
    "country_map = {}\n",
    "for country in df_geo['country_name'].unique():\n",
    "    try:\n",
    "        translated = translator.translate(country)\n",
    "    except Exception:\n",
    "        translated = country\n",
    "    country_map[country] = translated\n",
    "\n",
    "df_geo['spanish_country_region_name'] = df_geo['country_name'].map(country_map)\n",
    "\n",
    "print(country_map)\n",
    "\n",
    "# TODO: VINCULAR LLAVE sales_territory_key CON LA DIMENSION SALES_TERRITORY"
   ],
   "id": "d95a97d2acbcbf59",
   "outputs": [
    {
     "name": "stdout",
     "output_type": "stream",
     "text": [
      "{'United States': 'Estados Unidos', 'Canada': 'Canadá', 'France': 'Francia', 'Germany': 'Alemania', 'Australia': 'Australia', 'United Kingdom': 'Reino Unido'}\n"
     ]
    }
   ],
   "execution_count": 13
  },
  {
   "metadata": {
    "ExecuteTime": {
     "end_time": "2025-10-27T23:35:13.202293Z",
     "start_time": "2025-10-27T23:35:13.191283Z"
    }
   },
   "cell_type": "code",
   "source": "df_geo.head()",
   "id": "f295a2096f50b11",
   "outputs": [
    {
     "data": {
      "text/plain": [
       "   address_alternate_key     city postal_code state_province_code  \\\n",
       "0                      1  Bothell       98011                 WA    \n",
       "1                      2  Bothell       98011                 WA    \n",
       "2                      3  Bothell       98011                 WA    \n",
       "3                      4  Bothell       98011                 WA    \n",
       "4                      5  Bothell       98011                 WA    \n",
       "\n",
       "  state_province_name country_region_code   country_name sales_territory_key  \\\n",
       "0          Washington                  US  United States                None   \n",
       "1          Washington                  US  United States                None   \n",
       "2          Washington                  US  United States                None   \n",
       "3          Washington                  US  United States                None   \n",
       "4          Washington                  US  United States                None   \n",
       "\n",
       "              modified_date spanish_country_region_name  \n",
       "0 2007-12-04 00:00:00+00:00              Estados Unidos  \n",
       "1 2008-11-30 00:00:00+00:00              Estados Unidos  \n",
       "2 2013-03-07 00:00:00+00:00              Estados Unidos  \n",
       "3 2009-02-03 00:00:00+00:00              Estados Unidos  \n",
       "4 2008-12-19 00:00:00+00:00              Estados Unidos  "
      ],
      "text/html": [
       "<div>\n",
       "<style scoped>\n",
       "    .dataframe tbody tr th:only-of-type {\n",
       "        vertical-align: middle;\n",
       "    }\n",
       "\n",
       "    .dataframe tbody tr th {\n",
       "        vertical-align: top;\n",
       "    }\n",
       "\n",
       "    .dataframe thead th {\n",
       "        text-align: right;\n",
       "    }\n",
       "</style>\n",
       "<table border=\"1\" class=\"dataframe\">\n",
       "  <thead>\n",
       "    <tr style=\"text-align: right;\">\n",
       "      <th></th>\n",
       "      <th>address_alternate_key</th>\n",
       "      <th>city</th>\n",
       "      <th>postal_code</th>\n",
       "      <th>state_province_code</th>\n",
       "      <th>state_province_name</th>\n",
       "      <th>country_region_code</th>\n",
       "      <th>country_name</th>\n",
       "      <th>sales_territory_key</th>\n",
       "      <th>modified_date</th>\n",
       "      <th>spanish_country_region_name</th>\n",
       "    </tr>\n",
       "  </thead>\n",
       "  <tbody>\n",
       "    <tr>\n",
       "      <th>0</th>\n",
       "      <td>1</td>\n",
       "      <td>Bothell</td>\n",
       "      <td>98011</td>\n",
       "      <td>WA</td>\n",
       "      <td>Washington</td>\n",
       "      <td>US</td>\n",
       "      <td>United States</td>\n",
       "      <td>None</td>\n",
       "      <td>2007-12-04 00:00:00+00:00</td>\n",
       "      <td>Estados Unidos</td>\n",
       "    </tr>\n",
       "    <tr>\n",
       "      <th>1</th>\n",
       "      <td>2</td>\n",
       "      <td>Bothell</td>\n",
       "      <td>98011</td>\n",
       "      <td>WA</td>\n",
       "      <td>Washington</td>\n",
       "      <td>US</td>\n",
       "      <td>United States</td>\n",
       "      <td>None</td>\n",
       "      <td>2008-11-30 00:00:00+00:00</td>\n",
       "      <td>Estados Unidos</td>\n",
       "    </tr>\n",
       "    <tr>\n",
       "      <th>2</th>\n",
       "      <td>3</td>\n",
       "      <td>Bothell</td>\n",
       "      <td>98011</td>\n",
       "      <td>WA</td>\n",
       "      <td>Washington</td>\n",
       "      <td>US</td>\n",
       "      <td>United States</td>\n",
       "      <td>None</td>\n",
       "      <td>2013-03-07 00:00:00+00:00</td>\n",
       "      <td>Estados Unidos</td>\n",
       "    </tr>\n",
       "    <tr>\n",
       "      <th>3</th>\n",
       "      <td>4</td>\n",
       "      <td>Bothell</td>\n",
       "      <td>98011</td>\n",
       "      <td>WA</td>\n",
       "      <td>Washington</td>\n",
       "      <td>US</td>\n",
       "      <td>United States</td>\n",
       "      <td>None</td>\n",
       "      <td>2009-02-03 00:00:00+00:00</td>\n",
       "      <td>Estados Unidos</td>\n",
       "    </tr>\n",
       "    <tr>\n",
       "      <th>4</th>\n",
       "      <td>5</td>\n",
       "      <td>Bothell</td>\n",
       "      <td>98011</td>\n",
       "      <td>WA</td>\n",
       "      <td>Washington</td>\n",
       "      <td>US</td>\n",
       "      <td>United States</td>\n",
       "      <td>None</td>\n",
       "      <td>2008-12-19 00:00:00+00:00</td>\n",
       "      <td>Estados Unidos</td>\n",
       "    </tr>\n",
       "  </tbody>\n",
       "</table>\n",
       "</div>"
      ]
     },
     "execution_count": 17,
     "metadata": {},
     "output_type": "execute_result"
    }
   ],
   "execution_count": 17
  },
  {
   "metadata": {},
   "cell_type": "markdown",
   "source": "# Load",
   "id": "ae0f488aeda0a827"
  },
  {
   "metadata": {
    "ExecuteTime": {
     "end_time": "2025-10-27T21:23:52.122001Z",
     "start_time": "2025-10-27T21:23:51.529439Z"
    }
   },
   "cell_type": "code",
   "source": [
    "# TODO; CREAR LA TABLA AQUI MISMO\n",
    "\n",
    "df_geo.to_sql(\n",
    "    'dim_geography',\n",
    "    etl_conn,\n",
    "    schema='dw',\n",
    "    if_exists='replace',  # usa 'append' en producción\n",
    "    index=False\n",
    ")"
   ],
   "id": "5abb638613737086",
   "outputs": [
    {
     "data": {
      "text/plain": [
       "614"
      ]
     },
     "execution_count": 16,
     "metadata": {},
     "output_type": "execute_result"
    }
   ],
   "execution_count": 16
  },
  {
   "metadata": {},
   "cell_type": "code",
   "outputs": [],
   "execution_count": null,
   "source": "",
   "id": "802bcbb2d1ee085b"
  }
 ],
 "metadata": {
  "kernelspec": {
   "display_name": "Python 3",
   "language": "python",
   "name": "python3"
  },
  "language_info": {
   "codemirror_mode": {
    "name": "ipython",
    "version": 2
   },
   "file_extension": ".py",
   "mimetype": "text/x-python",
   "name": "python",
   "nbconvert_exporter": "python",
   "pygments_lexer": "ipython2",
   "version": "2.7.6"
  }
 },
 "nbformat": 4,
 "nbformat_minor": 5
}
