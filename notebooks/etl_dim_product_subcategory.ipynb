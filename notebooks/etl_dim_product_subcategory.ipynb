{
 "cells": [
  {
   "cell_type": "code",
   "execution_count": 1,
   "id": "80cbfc83",
   "metadata": {},
   "outputs": [],
   "source": [
    "import pandas as pd\n",
    "from connection import connect\n"
   ]
  },
  {
   "cell_type": "code",
   "execution_count": null,
   "id": "dece0faa",
   "metadata": {},
   "outputs": [],
   "source": [
    "#connection\n",
    "co_oltp,etl_conn=connect('production')\n"
   ]
  },
  {
   "cell_type": "markdown",
   "id": "7641c226",
   "metadata": {},
   "source": [
    "## Extract"
   ]
  },
  {
   "cell_type": "code",
   "execution_count": null,
   "id": "f4dcc991",
   "metadata": {},
   "outputs": [
    {
     "data": {
      "text/html": [
       "<div>\n",
       "<style scoped>\n",
       "    .dataframe tbody tr th:only-of-type {\n",
       "        vertical-align: middle;\n",
       "    }\n",
       "\n",
       "    .dataframe tbody tr th {\n",
       "        vertical-align: top;\n",
       "    }\n",
       "\n",
       "    .dataframe thead th {\n",
       "        text-align: right;\n",
       "    }\n",
       "</style>\n",
       "<table border=\"1\" class=\"dataframe\">\n",
       "  <thead>\n",
       "    <tr style=\"text-align: right;\">\n",
       "      <th></th>\n",
       "      <th>product_category_alternate_key</th>\n",
       "      <th>english_product_category_name</th>\n",
       "      <th>spanish_product_category_name</th>\n",
       "      <th>french_product_category_name</th>\n",
       "    </tr>\n",
       "  </thead>\n",
       "  <tbody>\n",
       "    <tr>\n",
       "      <th>0</th>\n",
       "      <td>1</td>\n",
       "      <td>Bikes</td>\n",
       "      <td>bicicletas</td>\n",
       "      <td>Vélos</td>\n",
       "    </tr>\n",
       "    <tr>\n",
       "      <th>1</th>\n",
       "      <td>2</td>\n",
       "      <td>Components</td>\n",
       "      <td>Componentes</td>\n",
       "      <td>Composants</td>\n",
       "    </tr>\n",
       "    <tr>\n",
       "      <th>2</th>\n",
       "      <td>3</td>\n",
       "      <td>Clothing</td>\n",
       "      <td>Ropa</td>\n",
       "      <td>Vêtements</td>\n",
       "    </tr>\n",
       "    <tr>\n",
       "      <th>3</th>\n",
       "      <td>4</td>\n",
       "      <td>Accessories</td>\n",
       "      <td>Accesorios</td>\n",
       "      <td>Accessoires</td>\n",
       "    </tr>\n",
       "  </tbody>\n",
       "</table>\n",
       "</div>"
      ],
      "text/plain": [
       "   product_category_alternate_key english_product_category_name  \\\n",
       "0                               1                         Bikes   \n",
       "1                               2                    Components   \n",
       "2                               3                      Clothing   \n",
       "3                               4                   Accessories   \n",
       "\n",
       "  spanish_product_category_name french_product_category_name  \n",
       "0                    bicicletas                        Vélos  \n",
       "1                   Componentes                   Composants  \n",
       "2                          Ropa                    Vêtements  \n",
       "3                    Accesorios                  Accessoires  "
      ]
     },
     "execution_count": 3,
     "metadata": {},
     "output_type": "execute_result"
    }
   ],
   "source": [
    "#extract DimProductCategory\n",
    "\n",
    "\n",
    "from deep_translator import GoogleTranslator\n",
    "\n",
    "category=pd.read_sql_table('product_category',co_oltp,schema='production')\n"
   ]
  },
  {
   "cell_type": "markdown",
   "id": "5ed5f831",
   "metadata": {},
   "source": [
    "## Transform\n"
   ]
  },
  {
   "cell_type": "code",
   "execution_count": null,
   "id": "d364221b",
   "metadata": {},
   "outputs": [],
   "source": [
    "category=category.rename(columns={'product_category_id':'product_category_alternate_key','name':'english_product_category_name'})\n",
    "\n",
    "category=category.drop(['rowguid','modified_date'],axis=1)\n",
    "category['spanish_product_category_name']=category['english_product_category_name'].apply(lambda x : GoogleTranslator(source='en',target='es').translate(x) if x is not None else None )\n",
    "category['french_product_category_name']=category['english_product_category_name'].apply(lambda x : GoogleTranslator(source='en',target='fr').translate(x) if x is not None else None )\n",
    "\n",
    "category"
   ]
  },
  {
   "cell_type": "markdown",
   "id": "f6e31f48",
   "metadata": {},
   "source": [
    "## Load"
   ]
  },
  {
   "cell_type": "code",
   "execution_count": 6,
   "id": "a17c7627",
   "metadata": {},
   "outputs": [
    {
     "data": {
      "text/plain": [
       "4"
      ]
     },
     "execution_count": 6,
     "metadata": {},
     "output_type": "execute_result"
    }
   ],
   "source": [
    "category.to_sql('dim_product_category', etl_conn, if_exists='append',index=False)"
   ]
  }
 ],
 "metadata": {
  "kernelspec": {
   "display_name": ".venv",
   "language": "python",
   "name": "python3"
  },
  "language_info": {
   "codemirror_mode": {
    "name": "ipython",
    "version": 3
   },
   "file_extension": ".py",
   "mimetype": "text/x-python",
   "name": "python",
   "nbconvert_exporter": "python",
   "pygments_lexer": "ipython3",
   "version": "3.13.3"
  }
 },
 "nbformat": 4,
 "nbformat_minor": 5
}
