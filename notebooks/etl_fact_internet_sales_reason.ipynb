{
 "cells": [
  {
   "cell_type": "code",
   "execution_count": null,
   "id": "37638bce",
   "metadata": {},
   "outputs": [],
   "source": [
    "import pandas as pd\n",
    "from connection import connect"
   ]
  },
  {
   "cell_type": "code",
   "execution_count": null,
   "id": "058182ad",
   "metadata": {},
   "outputs": [],
   "source": [
    "#connection\n",
    "SCHEMA='production'\n",
    "co_oltp,etl_conn=connect(SCHEMA)"
   ]
  },
  {
   "cell_type": "markdown",
   "id": "16270fe9",
   "metadata": {},
   "source": [
    "## Extract"
   ]
  },
  {
   "cell_type": "code",
   "execution_count": null,
   "id": "227cb9a3",
   "metadata": {},
   "outputs": [],
   "source": [
    "dim_=pd.read_sql_table('product_category',co_oltp,schema=SCHEMA)\n",
    "\n"
   ]
  }
 ],
 "metadata": {
  "language_info": {
   "name": "python"
  }
 },
 "nbformat": 4,
 "nbformat_minor": 5
}
