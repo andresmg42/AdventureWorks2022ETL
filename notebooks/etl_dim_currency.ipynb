{
 "cells": [
  {
   "cell_type": "code",
   "execution_count": 3,
   "id": "5501da6c",
   "metadata": {},
   "outputs": [],
   "source": [
    "import pandas as pd\n",
    "from connection import connect"
   ]
  },
  {
   "cell_type": "code",
   "execution_count": 4,
   "id": "b302deb2",
   "metadata": {},
   "outputs": [
    {
     "name": "stdout",
     "output_type": "stream",
     "text": [
      "['sales_person_quota_history', 'country_region_currency', 'sales_reason', 'credit_card', 'sales_tax_rate', 'currency', 'sales_territory', 'currency_rate', 'sales_territory_history', 'customer', 'shopping_cart_item', 'person_credit_card', 'special_offer', 'special_offer_product', 'sales_order_header_sales_reason', 'sales_order_detail', 'sales_order_header', 'sales_person', 'store']\n"
     ]
    }
   ],
   "source": [
    "#connection\n",
    "SCHEMA='sales'\n",
    "co_oltp,etl_conn,etl_conn_or=connect(SCHEMA)"
   ]
  },
  {
   "cell_type": "markdown",
   "id": "27f4f27f",
   "metadata": {},
   "source": [
    "## Extract\n"
   ]
  },
  {
   "cell_type": "code",
   "execution_count": 5,
   "id": "7a925104",
   "metadata": {},
   "outputs": [
    {
     "data": {
      "text/html": [
       "<div>\n",
       "<style scoped>\n",
       "    .dataframe tbody tr th:only-of-type {\n",
       "        vertical-align: middle;\n",
       "    }\n",
       "\n",
       "    .dataframe tbody tr th {\n",
       "        vertical-align: top;\n",
       "    }\n",
       "\n",
       "    .dataframe thead th {\n",
       "        text-align: right;\n",
       "    }\n",
       "</style>\n",
       "<table border=\"1\" class=\"dataframe\">\n",
       "  <thead>\n",
       "    <tr style=\"text-align: right;\">\n",
       "      <th></th>\n",
       "      <th>currency_code</th>\n",
       "      <th>name</th>\n",
       "      <th>modified_date</th>\n",
       "    </tr>\n",
       "  </thead>\n",
       "  <tbody>\n",
       "    <tr>\n",
       "      <th>0</th>\n",
       "      <td>AED</td>\n",
       "      <td>Emirati Dirham</td>\n",
       "      <td>2008-04-30 00:00:00+00:00</td>\n",
       "    </tr>\n",
       "    <tr>\n",
       "      <th>1</th>\n",
       "      <td>AFA</td>\n",
       "      <td>Afghani</td>\n",
       "      <td>2008-04-30 00:00:00+00:00</td>\n",
       "    </tr>\n",
       "    <tr>\n",
       "      <th>2</th>\n",
       "      <td>ALL</td>\n",
       "      <td>Lek</td>\n",
       "      <td>2008-04-30 00:00:00+00:00</td>\n",
       "    </tr>\n",
       "    <tr>\n",
       "      <th>3</th>\n",
       "      <td>AMD</td>\n",
       "      <td>Armenian Dram</td>\n",
       "      <td>2008-04-30 00:00:00+00:00</td>\n",
       "    </tr>\n",
       "    <tr>\n",
       "      <th>4</th>\n",
       "      <td>ANG</td>\n",
       "      <td>Netherlands Antillian Guilder</td>\n",
       "      <td>2008-04-30 00:00:00+00:00</td>\n",
       "    </tr>\n",
       "    <tr>\n",
       "      <th>...</th>\n",
       "      <td>...</td>\n",
       "      <td>...</td>\n",
       "      <td>...</td>\n",
       "    </tr>\n",
       "    <tr>\n",
       "      <th>100</th>\n",
       "      <td>VEB</td>\n",
       "      <td>Bolivar</td>\n",
       "      <td>2008-04-30 00:00:00+00:00</td>\n",
       "    </tr>\n",
       "    <tr>\n",
       "      <th>101</th>\n",
       "      <td>VND</td>\n",
       "      <td>Dong</td>\n",
       "      <td>2008-04-30 00:00:00+00:00</td>\n",
       "    </tr>\n",
       "    <tr>\n",
       "      <th>102</th>\n",
       "      <td>XOF</td>\n",
       "      <td>CFA Franc BCEAO</td>\n",
       "      <td>2008-04-30 00:00:00+00:00</td>\n",
       "    </tr>\n",
       "    <tr>\n",
       "      <th>103</th>\n",
       "      <td>ZAR</td>\n",
       "      <td>Rand</td>\n",
       "      <td>2008-04-30 00:00:00+00:00</td>\n",
       "    </tr>\n",
       "    <tr>\n",
       "      <th>104</th>\n",
       "      <td>ZWD</td>\n",
       "      <td>Zimbabwe Dollar</td>\n",
       "      <td>2008-04-30 00:00:00+00:00</td>\n",
       "    </tr>\n",
       "  </tbody>\n",
       "</table>\n",
       "<p>105 rows × 3 columns</p>\n",
       "</div>"
      ],
      "text/plain": [
       "    currency_code                           name             modified_date\n",
       "0             AED                 Emirati Dirham 2008-04-30 00:00:00+00:00\n",
       "1             AFA                        Afghani 2008-04-30 00:00:00+00:00\n",
       "2             ALL                            Lek 2008-04-30 00:00:00+00:00\n",
       "3             AMD                  Armenian Dram 2008-04-30 00:00:00+00:00\n",
       "4             ANG  Netherlands Antillian Guilder 2008-04-30 00:00:00+00:00\n",
       "..            ...                            ...                       ...\n",
       "100           VEB                        Bolivar 2008-04-30 00:00:00+00:00\n",
       "101           VND                           Dong 2008-04-30 00:00:00+00:00\n",
       "102           XOF                CFA Franc BCEAO 2008-04-30 00:00:00+00:00\n",
       "103           ZAR                           Rand 2008-04-30 00:00:00+00:00\n",
       "104           ZWD                Zimbabwe Dollar 2008-04-30 00:00:00+00:00\n",
       "\n",
       "[105 rows x 3 columns]"
      ]
     },
     "execution_count": 5,
     "metadata": {},
     "output_type": "execute_result"
    }
   ],
   "source": [
    "dim_currency=pd.read_sql_table('currency',co_oltp,schema=SCHEMA)\n",
    "dim_currency"
   ]
  },
  {
   "cell_type": "markdown",
   "id": "446eb0ee",
   "metadata": {},
   "source": [
    "## Transform"
   ]
  },
  {
   "cell_type": "code",
   "execution_count": null,
   "id": "e1a80312",
   "metadata": {},
   "outputs": [
    {
     "data": {
      "text/html": [
       "<div>\n",
       "<style scoped>\n",
       "    .dataframe tbody tr th:only-of-type {\n",
       "        vertical-align: middle;\n",
       "    }\n",
       "\n",
       "    .dataframe tbody tr th {\n",
       "        vertical-align: top;\n",
       "    }\n",
       "\n",
       "    .dataframe thead th {\n",
       "        text-align: right;\n",
       "    }\n",
       "</style>\n",
       "<table border=\"1\" class=\"dataframe\">\n",
       "  <thead>\n",
       "    <tr style=\"text-align: right;\">\n",
       "      <th></th>\n",
       "      <th>currency_alternate_key</th>\n",
       "      <th>currency_name</th>\n",
       "    </tr>\n",
       "  </thead>\n",
       "  <tbody>\n",
       "    <tr>\n",
       "      <th>0</th>\n",
       "      <td>AED</td>\n",
       "      <td>Emirati Dirham</td>\n",
       "    </tr>\n",
       "    <tr>\n",
       "      <th>1</th>\n",
       "      <td>AFA</td>\n",
       "      <td>Afghani</td>\n",
       "    </tr>\n",
       "    <tr>\n",
       "      <th>2</th>\n",
       "      <td>ALL</td>\n",
       "      <td>Lek</td>\n",
       "    </tr>\n",
       "    <tr>\n",
       "      <th>3</th>\n",
       "      <td>AMD</td>\n",
       "      <td>Armenian Dram</td>\n",
       "    </tr>\n",
       "    <tr>\n",
       "      <th>4</th>\n",
       "      <td>ANG</td>\n",
       "      <td>Netherlands Antillian Guilder</td>\n",
       "    </tr>\n",
       "    <tr>\n",
       "      <th>...</th>\n",
       "      <td>...</td>\n",
       "      <td>...</td>\n",
       "    </tr>\n",
       "    <tr>\n",
       "      <th>100</th>\n",
       "      <td>VEB</td>\n",
       "      <td>Bolivar</td>\n",
       "    </tr>\n",
       "    <tr>\n",
       "      <th>101</th>\n",
       "      <td>VND</td>\n",
       "      <td>Dong</td>\n",
       "    </tr>\n",
       "    <tr>\n",
       "      <th>102</th>\n",
       "      <td>XOF</td>\n",
       "      <td>CFA Franc BCEAO</td>\n",
       "    </tr>\n",
       "    <tr>\n",
       "      <th>103</th>\n",
       "      <td>ZAR</td>\n",
       "      <td>Rand</td>\n",
       "    </tr>\n",
       "    <tr>\n",
       "      <th>104</th>\n",
       "      <td>ZWD</td>\n",
       "      <td>Zimbabwe Dollar</td>\n",
       "    </tr>\n",
       "  </tbody>\n",
       "</table>\n",
       "<p>105 rows × 2 columns</p>\n",
       "</div>"
      ],
      "text/plain": [
       "    currency_alternate_key                  currency_name\n",
       "0                      AED                 Emirati Dirham\n",
       "1                      AFA                        Afghani\n",
       "2                      ALL                            Lek\n",
       "3                      AMD                  Armenian Dram\n",
       "4                      ANG  Netherlands Antillian Guilder\n",
       "..                     ...                            ...\n",
       "100                    VEB                        Bolivar\n",
       "101                    VND                           Dong\n",
       "102                    XOF                CFA Franc BCEAO\n",
       "103                    ZAR                           Rand\n",
       "104                    ZWD                Zimbabwe Dollar\n",
       "\n",
       "[105 rows x 2 columns]"
      ]
     },
     "execution_count": 12,
     "metadata": {},
     "output_type": "execute_result"
    }
   ],
   "source": [
    "dim_currency.rename(columns={'currency_code':'currency_alternate_key','name':'currency_name'},inplace=True)\n",
    "\n",
    "dim_currency.drop(['modified_date'],axis=1,inplace=True)\n",
    "\n",
    "dim_currency"
   ]
  },
  {
   "cell_type": "markdown",
   "id": "8cf15036",
   "metadata": {},
   "source": [
    "## Load"
   ]
  },
  {
   "cell_type": "code",
   "execution_count": 14,
   "id": "6935745e",
   "metadata": {},
   "outputs": [
    {
     "data": {
      "text/plain": [
       "105"
      ]
     },
     "execution_count": 14,
     "metadata": {},
     "output_type": "execute_result"
    }
   ],
   "source": [
    "dim_currency.to_sql('dim_currency',etl_conn,if_exists='append',index=False)"
   ]
  }
 ],
 "metadata": {
  "kernelspec": {
   "display_name": ".venv",
   "language": "python",
   "name": "python3"
  },
  "language_info": {
   "codemirror_mode": {
    "name": "ipython",
    "version": 3
   },
   "file_extension": ".py",
   "mimetype": "text/x-python",
   "name": "python",
   "nbconvert_exporter": "python",
   "pygments_lexer": "ipython3",
   "version": "3.13.3"
  }
 },
 "nbformat": 4,
 "nbformat_minor": 5
}
