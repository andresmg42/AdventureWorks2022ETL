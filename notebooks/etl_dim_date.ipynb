{
 "cells": [
  {
   "cell_type": "code",
   "execution_count": 1,
   "id": "7d37ba8e",
   "metadata": {},
   "outputs": [],
   "source": [
    "from datetime import date\n",
    "import pandas as pd\n",
    "import numpy as np\n",
    "import holidays"
   ]
  },
  {
   "cell_type": "code",
   "execution_count": 27,
   "id": "4b0c3c54",
   "metadata": {},
   "outputs": [],
   "source": [
    "dim_fecha = pd.DataFrame({\n",
    "    \"date\": pd.date_range(start='1/1/2005', end='31/12/2014', freq='D')\n",
    "})\n",
    "# dim_fecha.info()"
   ]
  },
  {
   "cell_type": "code",
   "execution_count": null,
   "id": "5eb28d37",
   "metadata": {},
   "outputs": [
    {
     "ename": "AttributeError",
     "evalue": "'DatetimeProperties' object has no attribute 'week'",
     "output_type": "error",
     "traceback": [
      "\u001b[31m---------------------------------------------------------------------------\u001b[39m",
      "\u001b[31mAttributeError\u001b[39m                            Traceback (most recent call last)",
      "\u001b[36mCell\u001b[39m\u001b[36m \u001b[39m\u001b[32mIn[29]\u001b[39m\u001b[32m, line 4\u001b[39m\n\u001b[32m      2\u001b[39m dim_fecha[\u001b[33m'\u001b[39m\u001b[33mday_number_of_month\u001b[39m\u001b[33m'\u001b[39m]=dim_fecha[\u001b[33m'\u001b[39m\u001b[33mdate\u001b[39m\u001b[33m'\u001b[39m].dt.day\n\u001b[32m      3\u001b[39m dim_fecha[\u001b[33m'\u001b[39m\u001b[33mday_number_of_year\u001b[39m\u001b[33m'\u001b[39m]=dim_fecha[\u001b[33m'\u001b[39m\u001b[33mdate\u001b[39m\u001b[33m'\u001b[39m].dt.day_of_year\n\u001b[32m----> \u001b[39m\u001b[32m4\u001b[39m dim_fecha[\u001b[33m'\u001b[39m\u001b[33mweek_number_of_year\u001b[39m\u001b[33m'\u001b[39m]=\u001b[43mdim_fecha\u001b[49m\u001b[43m[\u001b[49m\u001b[33;43m'\u001b[39;49m\u001b[33;43mdate\u001b[39;49m\u001b[33;43m'\u001b[39;49m\u001b[43m]\u001b[49m\u001b[43m.\u001b[49m\u001b[43mdt\u001b[49m\u001b[43m.\u001b[49m\u001b[43mweek\u001b[49m\n\u001b[32m      5\u001b[39m dim_fecha[\u001b[33m'\u001b[39m\u001b[33mmonth_number_of_year\u001b[39m\u001b[33m'\u001b[39m]=dim_fecha[\u001b[33m'\u001b[39m\u001b[33mdate\u001b[39m\u001b[33m'\u001b[39m].dt.month\n\u001b[32m      6\u001b[39m dim_fecha[\u001b[33m'\u001b[39m\u001b[33mcalendar_quarter\u001b[39m\u001b[33m'\u001b[39m]=dim_fecha[\u001b[33m'\u001b[39m\u001b[33mdate\u001b[39m\u001b[33m'\u001b[39m].dt.quarter\n",
      "\u001b[31mAttributeError\u001b[39m: 'DatetimeProperties' object has no attribute 'week'"
     ]
    }
   ],
   "source": [
    "dim_fecha['day_number_of_week'] = ((dim_fecha['date'].dt.day_of_week + 1) % 7) + 1\n",
    "dim_fecha['day_number_of_month']=dim_fecha['date'].dt.day\n",
    "dim_fecha['day_number_of_year']=dim_fecha['date'].dt.day_of_year\n",
    "dim_fecha['week_number_of_year'] = dim_fecha['date'].apply(\n",
    "    lambda d: ((d - pd.Timestamp(d.year, 1, 1)).days + pd.Timestamp(d.year, 1, 1).weekday() + 1) // 7 + 1\n",
    ")\n",
    "dim_fecha['month_number_of_year']=dim_fecha['date'].dt.month\n",
    "dim_fecha['calendar_quarter']=dim_fecha['date'].dt.quarter\n",
    "dim_fecha['calendar_year']=(((dim_fecha['date'].dt.month-1)//6)+1)\n",
    "dim_fecha['calendar_semester']=dim_fecha['date'].dt.year\n",
    "dim_fecha['fiscal_year']=dim_fecha['date'].apply(lambda d: d.year if d.month>=7 else d.year-1)\n",
    "dim_fecha['fiscal_month']=dim_fecha['date'].apply(lambda d:((d.month)-7)%12+1)\n",
    "dim_fecha['fiscal_quarter']=((dim_fecha['fiscal_month']-1)//3) + 1\n",
    "dim_fecha['fiscal_semester']=((dim_fecha['fiscal_month']-1)//6) + 1\n",
    "\n",
    "# dim_fecha.drop('fiscal_mont',inplace=True,axis=1)\n",
    "dim_fecha\n",
    "\n",
    "\n",
    "\n",
    "\n",
    "#,week_number_of_year,calendar_year,calendar_semester,fiscal_year\n",
    "\n",
    "\n"
   ]
  },
  {
   "cell_type": "code",
   "execution_count": 15,
   "id": "215d8656",
   "metadata": {},
   "outputs": [
    {
     "data": {
      "text/html": [
       "<div>\n",
       "<style scoped>\n",
       "    .dataframe tbody tr th:only-of-type {\n",
       "        vertical-align: middle;\n",
       "    }\n",
       "\n",
       "    .dataframe tbody tr th {\n",
       "        vertical-align: top;\n",
       "    }\n",
       "\n",
       "    .dataframe thead th {\n",
       "        text-align: right;\n",
       "    }\n",
       "</style>\n",
       "<table border=\"1\" class=\"dataframe\">\n",
       "  <thead>\n",
       "    <tr style=\"text-align: right;\">\n",
       "      <th></th>\n",
       "      <th>date</th>\n",
       "      <th>month</th>\n",
       "    </tr>\n",
       "  </thead>\n",
       "  <tbody>\n",
       "    <tr>\n",
       "      <th>0</th>\n",
       "      <td>2023-02-15</td>\n",
       "      <td>1</td>\n",
       "    </tr>\n",
       "    <tr>\n",
       "      <th>1</th>\n",
       "      <td>2023-07-10</td>\n",
       "      <td>2</td>\n",
       "    </tr>\n",
       "    <tr>\n",
       "      <th>2</th>\n",
       "      <td>2023-12-25</td>\n",
       "      <td>2</td>\n",
       "    </tr>\n",
       "  </tbody>\n",
       "</table>\n",
       "</div>"
      ],
      "text/plain": [
       "        date  month\n",
       "0 2023-02-15      1\n",
       "1 2023-07-10      2\n",
       "2 2023-12-25      2"
      ]
     },
     "execution_count": 15,
     "metadata": {},
     "output_type": "execute_result"
    }
   ],
   "source": [
    "df = pd.DataFrame({\n",
    "    'date': pd.to_datetime(['2023-02-15', '2023-07-10', '2023-12-25'])\n",
    "})\n",
    "\n",
    "df['month']=(df['date'].dt.month-1)//6+1\n",
    "df"
   ]
  },
  {
   "cell_type": "code",
   "execution_count": 18,
   "id": "bbffd293",
   "metadata": {},
   "outputs": [
    {
     "data": {
      "text/plain": [
       "1"
      ]
     },
     "execution_count": 18,
     "metadata": {},
     "output_type": "execute_result"
    }
   ],
   "source": [
    "5%4\n"
   ]
  }
 ],
 "metadata": {
  "kernelspec": {
   "display_name": ".venv",
   "language": "python",
   "name": "python3"
  },
  "language_info": {
   "codemirror_mode": {
    "name": "ipython",
    "version": 3
   },
   "file_extension": ".py",
   "mimetype": "text/x-python",
   "name": "python",
   "nbconvert_exporter": "python",
   "pygments_lexer": "ipython3",
   "version": "3.13.3"
  }
 },
 "nbformat": 4,
 "nbformat_minor": 5
}
